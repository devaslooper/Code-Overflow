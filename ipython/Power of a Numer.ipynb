{
 "cells": [
  {
   "cell_type": "code",
   "execution_count": 1,
   "metadata": {},
   "outputs": [
    {
     "name": "stdout",
     "output_type": "stream",
     "text": [
      "Enter the base number2\n",
      "Enter the exponent2\n",
      "Power is = 4.0\n"
     ]
    }
   ],
   "source": [
    "import math\n",
    "\n",
    "base_number = float(input(\"Enter the base number\"))\n",
    "exponent = float(input(\"Enter the exponent\"))\n",
    "\n",
    "power = math.pow(base_number,exponent)\n",
    "print(\"Power is =\",power)"
   ]
  },
  {
   "cell_type": "code",
   "execution_count": 4,
   "metadata": {},
   "outputs": [
    {
     "name": "stdout",
     "output_type": "stream",
     "text": [
      "The Power of 2 is 16.0\n",
      "The Power of 4 is 256.0\n",
      "The Power of 6 is 1296.0\n",
      "The Power of 8 is 4096.0\n"
     ]
    }
   ],
   "source": [
    "array= [2, 4, 6, 8] \n",
    "for i in array:\n",
    "    exponent= 4\n",
    "    power= math.pow(i, exponent)\n",
    "    print(f\"The Power of {i} is {power}\") "
   ]
  },
  {
   "cell_type": "code",
   "execution_count": null,
   "metadata": {},
   "outputs": [],
   "source": []
  }
 ],
 "metadata": {
  "kernelspec": {
   "display_name": "Python 3",
   "language": "python",
   "name": "python3"
  },
  "language_info": {
   "codemirror_mode": {
    "name": "ipython",
    "version": 3
   },
   "file_extension": ".py",
   "mimetype": "text/x-python",
   "name": "python",
   "nbconvert_exporter": "python",
   "pygments_lexer": "ipython3",
   "version": "3.7.4"
  }
 },
 "nbformat": 4,
 "nbformat_minor": 2
}
